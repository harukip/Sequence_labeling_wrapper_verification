{
 "cells": [
  {
   "cell_type": "code",
   "execution_count": 1,
   "metadata": {},
   "outputs": [],
   "source": [
    "import numpy as np\n",
    "import pandas as pd"
   ]
  },
  {
   "cell_type": "markdown",
   "metadata": {},
   "source": [
    "# Input file parameter"
   ]
  },
  {
   "cell_type": "markdown",
   "metadata": {},
   "source": [
    "First we must indicated how many set are there in the TableA"
   ]
  },
  {
   "cell_type": "code",
   "execution_count": 2,
   "metadata": {},
   "outputs": [],
   "source": [
    "set_total = 1"
   ]
  },
  {
   "cell_type": "markdown",
   "metadata": {},
   "source": [
    "# Train file create"
   ]
  },
  {
   "cell_type": "markdown",
   "metadata": {},
   "source": [
    "Open the DCADE output TableA.txt and read page file to give each node data corresponding labels (column number)."
   ]
  },
  {
   "cell_type": "code",
   "execution_count": 3,
   "metadata": {
    "scrolled": true
   },
   "outputs": [
    {
     "name": "stdout",
     "output_type": "stream",
     "text": [
      "Table Opening:./data/TableA.txt\n",
      "\n",
      "Generating:./data/train_raw.csv\n",
      "\n",
      "find coltype\n",
      "find coltype\n",
      "find coltype\n",
      "find coltype\n",
      "find coltype\n",
      "find coltype\n",
      "Find : 1-0\n",
      "Add new set in dict col num:73\n",
      "open 01.txt\n",
      "Find : 1-1\n",
      "open 02.txt\n",
      "Find : 1-2\n",
      "open 03.txt\n",
      "Find : 1-3\n",
      "open 04.txt\n",
      "Find : 1-4\n",
      "open 05.txt\n",
      "Find : 1-5\n",
      "open 06.txt\n",
      "Find : 1-6\n",
      "open 07.txt\n",
      "Find : 1-7\n",
      "open 08.txt\n",
      "Find : 1-8\n",
      "open 09.txt\n",
      "Find : 1-9\n",
      "open 10.txt\n",
      "Find : 1-10\n",
      "open 11.txt\n",
      "Find : 1-11\n",
      "open 12.txt\n",
      "Find : 1-12\n",
      "open 13.txt\n",
      "Find : 1-13\n",
      "open 14.txt\n",
      "Find : 1-14\n",
      "open 15.txt\n",
      "Find : 1-15\n",
      "open 16.txt\n",
      "Find : 1-16\n",
      "open 17.txt\n",
      "Find : 1-17\n",
      "open 18.txt\n",
      "Find : 1-18\n",
      "open 19.txt\n",
      "Find : 1-19\n",
      "open 20.txt\n",
      "Find : 1-20\n",
      "open 21.txt\n"
     ]
    }
   ],
   "source": [
    "table_name = \"./data/TableA.txt\"\n",
    "print(\"Table Opening:\" + table_name + \"\\n\")\n",
    "table_a = open(table_name, \"r\")\n",
    "output_name = \"./data/train_raw.csv\"\n",
    "print(\"Generating:\" + output_name + \"\\n\")\n",
    "\n",
    "Set_index = {}\n",
    "\n",
    "output = open(output_name, \"w\")\n",
    "output.write(\"Leafnode\\tPTypeSet\\tTypeSet\\tContentid\\tPathid\\tSimseqid\\tPath\\tContent\\tLabel\\n\")\n",
    "\n",
    "line = table_a.readline()\n",
    "slot = line.rstrip(\"\\n\").split(\"\\t\") # Read Table line in line and split by \\t saved in slot.\n",
    "\n",
    "while(slot[0]!=\"ColType\"):\n",
    "    '''\n",
    "    Loop until we find the \"ColType\" in the table file to start generate training data.\n",
    "    '''\n",
    "    print(\"find coltype\")\n",
    "    line = table_a.readline()\n",
    "    slot = line.rstrip(\"\\n\").split(\"\\t\")\n",
    "col = []\n",
    "line = table_a.readline() # Read first line\n",
    "while(line != \"\"):\n",
    "    slot = line.rstrip(\"\\n\").split(\"\\t\")\n",
    "    page_name = slot[0]\n",
    "    node_col = slot[1:] # Save each column's data in node_col\n",
    "    col = []\n",
    "    for i in node_col: # Split Same column data and save in list col\n",
    "        tmp = i.split(\" \")\n",
    "        col.append(tmp)\n",
    "    \n",
    "    current_page = 0\n",
    "    for pos in range(len(col)): # Loop all col num\n",
    "        if len(col[pos]) == 1 and not col[pos][0].isnumeric(): # Find \"X-X\" like sets\n",
    "            print(\"Find : \"+col[pos][0])\n",
    "            current_page = col[pos][0].split(\"-\")[1]\n",
    "            current_page = int(current_page)\n",
    "            set_num = col[pos][0].split(\"-\")[0]\n",
    "            set_num = int(set_num)\n",
    "            if set_num not in Set_index.keys():\n",
    "                print(\"Add new set in dict col num:\"+str(pos+1))\n",
    "                Set_index[set_num] = pos+1 # Record it in dict\n",
    "    \n",
    "    page_file = pd.read_csv(\"./Output/\"+page_name, sep='\\t') # Read page file from DECADE Output file.\n",
    "    \n",
    "    col_name = []\n",
    "    for i in page_file.columns: # Save all column name\n",
    "        col_name.append(i)\n",
    "    \n",
    "    print(\"open \"+ page_name)\n",
    "    label_dict = {} # Define Dict of labels for each node\n",
    "    for leafnode in page_file[col_name[0]]: # Loop each node in page\n",
    "        for pos in range(len(col)): # Loop all col\n",
    "            if str(leafnode) in col[pos]: # if node is in this column\n",
    "                if leafnode not in label_dict.keys(): # and if this node not in dict save it\n",
    "                    label_dict[leafnode] = pos+1 # Shift one column for every node (zero is for empty).\n",
    "                #print(str(leafnode) + \"\\'s label: \" + str(pos))\n",
    "                break\n",
    "    \n",
    "    for set_count in range(set_total): # Loop every set and give each node a label, which is the column number of the set.\n",
    "        with open(\"./data/Set-\"+str(set_count+1)+\".txt\", \"r\") as set_file:\n",
    "            line = set_file.readline()\n",
    "            slot = line.rstrip(\"\\n\").split(\"\\t\")\n",
    "            \n",
    "            while(slot[0] != \"ColType\"):\n",
    "                line = set_file.readline()\n",
    "                slot = line.rstrip(\"\\n\").split(\"\\t\")\n",
    "            \n",
    "            line = set_file.readline()\n",
    "            slot = line.rstrip(\"\\n\").split(\"\\t\")\n",
    "            while(line!=\"\"):\n",
    "                file_set_info = slot[0].split(\"-\")\n",
    "                file_set_num = set_count\n",
    "                file_set_page = int(file_set_info[1])\n",
    "                for node in slot[1:]:\n",
    "                    if not node.isnumeric():\n",
    "                        continue\n",
    "                    node = int(node)\n",
    "                    if file_set_page == current_page:\n",
    "                        label_dict[node] = Set_index[set_count+1]\n",
    "                line = set_file.readline()\n",
    "                slot = line.rstrip(\"\\n\").split(\"\\t\")\n",
    "    #print(label_dict)\n",
    "    #count = 0\n",
    "    for i in label_dict.keys(): # Loop each recorded node and output as train file\n",
    "        Leafnode = page_file[col_name[0]][i]\n",
    "        PTypeSetid = page_file[col_name[6]][i]\n",
    "        TypeSetid = page_file[col_name[7]][i]\n",
    "        Contentid = page_file[col_name[8]][i].split(\"-\")[1]\n",
    "        Pathid = page_file[col_name[9]][i]\n",
    "        SimSeqid = page_file[col_name[10]][i]\n",
    "        Path = page_file[col_name[2]][i]\n",
    "        Content = page_file[col_name[1]][i]\n",
    "        output.write(str(Leafnode) + \"\\t\")\n",
    "        output.write(str(PTypeSetid) + \"\\t\")\n",
    "        output.write(str(TypeSetid) + \"\\t\")\n",
    "        output.write(str(Contentid) + \"\\t\")\n",
    "        output.write(str(Pathid) + \"\\t\")\n",
    "        output.write(str(SimSeqid) + \"\\t\")\n",
    "        output.write(str(Path) + \"\\t\")\n",
    "        output.write(str(Content) + \"\\t\")\n",
    "        output.write(str(label_dict[i]) + \"\\n\")\n",
    "    line = table_a.readline()\n",
    "output.close()"
   ]
  },
  {
   "cell_type": "code",
   "execution_count": 4,
   "metadata": {},
   "outputs": [
    {
     "name": "stdout",
     "output_type": "stream",
     "text": [
      "Done\n"
     ]
    }
   ],
   "source": [
    "print(\"Done\")"
   ]
  },
  {
   "cell_type": "markdown",
   "metadata": {},
   "source": [
    "# Record Set data"
   ]
  },
  {
   "cell_type": "markdown",
   "metadata": {},
   "source": [
    "Recorded the node index that is in a set and saved it in file."
   ]
  },
  {
   "cell_type": "code",
   "execution_count": 5,
   "metadata": {},
   "outputs": [
    {
     "name": "stdout",
     "output_type": "stream",
     "text": [
      "{1: 73}\n"
     ]
    }
   ],
   "source": [
    "if set_total > 0:\n",
    "    with open(\"./data/Set_idx.txt\", \"w\") as set_file:\n",
    "        set_file.write(str(Set_index))\n",
    "    print(Set_index)"
   ]
  },
  {
   "cell_type": "markdown",
   "metadata": {},
   "source": [
    "# GA file create"
   ]
  },
  {
   "cell_type": "markdown",
   "metadata": {},
   "source": [
    "GA file is for testing."
   ]
  },
  {
   "cell_type": "code",
   "execution_count": 6,
   "metadata": {},
   "outputs": [
    {
     "name": "stdout",
     "output_type": "stream",
     "text": [
      "Table Opening:./data/GA.txt\n",
      "\n",
      "Generating:./data/ytest_raw.csv\n",
      "\n"
     ]
    }
   ],
   "source": [
    "table_name = \"./data/GA.txt\"\n",
    "print(\"Table Opening:\" + table_name + \"\\n\")\n",
    "table_a = open(table_name, \"r\")\n",
    "output_name = \"./data/ytest_raw.csv\"\n",
    "print(\"Generating:\" + output_name + \"\\n\")"
   ]
  },
  {
   "cell_type": "markdown",
   "metadata": {},
   "source": [
    "Testing file generation is same as training file generation, but give all the nodes label 0."
   ]
  },
  {
   "cell_type": "code",
   "execution_count": 7,
   "metadata": {
    "scrolled": true
   },
   "outputs": [
    {
     "name": "stdout",
     "output_type": "stream",
     "text": [
      "open 01.txt\n",
      "open 02.txt\n",
      "open 03.txt\n",
      "open 04.txt\n",
      "open 05.txt\n",
      "open 06.txt\n",
      "open 07.txt\n",
      "open 08.txt\n",
      "open 09.txt\n",
      "open 10.txt\n",
      "open 11.txt\n",
      "open 12.txt\n",
      "open 13.txt\n",
      "open 14.txt\n",
      "open 15.txt\n",
      "open 16.txt\n",
      "open 17.txt\n",
      "open 18.txt\n",
      "open 19.txt\n",
      "open 20.txt\n",
      "open 21.txt\n"
     ]
    }
   ],
   "source": [
    "Set_index = {}\n",
    "output = open(output_name, \"w\")\n",
    "output.write(\"Leafnode\\tPTypeSet\\tTypeSet\\tContentid\\tPathid\\tSimseqid\\tPath\\tContent\\tLabel\\n\")\n",
    "line = table_a.readline()\n",
    "slot = line.rstrip(\"\\n\").split(\"\\t\")\n",
    "while(slot[0]!=\"ColType\"):\n",
    "    print(\"find coltype\")\n",
    "    line = table_a.readline()\n",
    "    slot = line.rstrip(\"\\n\").split(\"\\t\")\n",
    "line = table_a.readline() # Read\n",
    "while(line != \"\"):\n",
    "    slot = line.rstrip(\"\\n\").split(\"\\t\")\n",
    "    page_name = slot[0]\n",
    "    if slot[0]==\"\":\n",
    "        break\n",
    "    page_file = pd.read_csv(\"./Output/\"+page_name, sep='\\t')\n",
    "    col_name = []\n",
    "    for i in page_file.columns:\n",
    "        col_name.append(i)\n",
    "    print(\"open \"+ page_name)\n",
    "    label_dict = {}\n",
    "    for node in range(len(page_file[col_name[0]])):\n",
    "        Leafnode = page_file[col_name[0]][node]\n",
    "        PTypeSetid = page_file[col_name[6]][node]\n",
    "        TypeSetid = page_file[col_name[7]][node]\n",
    "        Contentid = page_file[col_name[8]][node].split(\"-\")[1]\n",
    "        Pathid = page_file[col_name[9]][node]\n",
    "        SimSeqid = page_file[col_name[10]][node]\n",
    "        Path = page_file[col_name[2]][node]\n",
    "        Content = page_file[col_name[1]][node]\n",
    "        output.write(str(Leafnode) + \"\\t\")\n",
    "        output.write(str(PTypeSetid) + \"\\t\")\n",
    "        output.write(str(TypeSetid) + \"\\t\")\n",
    "        output.write(str(Contentid) + \"\\t\")\n",
    "        output.write(str(Pathid) + \"\\t\")\n",
    "        output.write(str(SimSeqid) + \"\\t\")\n",
    "        output.write(str(Path) + \"\\t\")\n",
    "        output.write(str(Content) + \"\\t\")\n",
    "        output.write(str(0) + \"\\n\")\n",
    "    line = table_a.readline() # Read\n",
    "output.close()"
   ]
  },
  {
   "cell_type": "code",
   "execution_count": 8,
   "metadata": {},
   "outputs": [
    {
     "name": "stdout",
     "output_type": "stream",
     "text": [
      "Done!\n"
     ]
    }
   ],
   "source": [
    "print(\"Done!\")"
   ]
  },
  {
   "cell_type": "code",
   "execution_count": null,
   "metadata": {},
   "outputs": [],
   "source": []
  }
 ],
 "metadata": {
  "kernelspec": {
   "display_name": "Python 3",
   "language": "python",
   "name": "python3"
  },
  "language_info": {
   "codemirror_mode": {
    "name": "ipython",
    "version": 3
   },
   "file_extension": ".py",
   "mimetype": "text/x-python",
   "name": "python",
   "nbconvert_exporter": "python",
   "pygments_lexer": "ipython3",
   "version": "3.5.2"
  }
 },
 "nbformat": 4,
 "nbformat_minor": 2
}
